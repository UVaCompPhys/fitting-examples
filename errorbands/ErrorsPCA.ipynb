{
 "cells": [
  {
   "cell_type": "code",
   "execution_count": 1,
   "id": "bdd8426c-73ff-4d21-9aef-b5c367df1c61",
   "metadata": {},
   "outputs": [
    {
     "name": "stdout",
     "output_type": "stream",
     "text": [
      "Welcome to JupyROOT 6.26/04\n"
     ]
    },
    {
     "data": {
      "text/plain": [
       "0"
      ]
     },
     "execution_count": 1,
     "metadata": {},
     "output_type": "execute_result"
    }
   ],
   "source": [
    "import ROOT as r\n",
    "r.gROOT.ProcessLine(\".L mylib.cc\")"
   ]
  },
  {
   "cell_type": "code",
   "execution_count": 2,
   "id": "3a92b04b-4522-4b5c-876f-8804323cf5fc",
   "metadata": {},
   "outputs": [
    {
     "name": "stdout",
     "output_type": "stream",
     "text": [
      " FCN=21.3844 FROM MIGRAD    STATUS=CONVERGED      66 CALLS          67 TOTAL\n",
      "                     EDM=1.29457e-14    STRATEGY= 1  ERROR MATRIX UNCERTAINTY   0.0 per cent\n",
      "  EXT PARAMETER                                   STEP         FIRST   \n",
      "  NO.   NAME      VALUE            ERROR          SIZE      DERIVATIVE \n",
      "   1  p0           1.61398e+01   2.37447e+01  -5.78335e-01   6.25699e-10\n",
      "   2  p1           6.99078e+00   1.08362e+01   2.68441e-01  -1.69202e-08\n",
      "   3  p2           7.56271e-01   1.19048e+00  -2.93077e-02   2.50317e-08\n"
     ]
    },
    {
     "name": "stderr",
     "output_type": "stream",
     "text": [
      "Info in <TCanvas::MakeDefCanvas>:  created default TCanvas with name c1\n"
     ]
    }
   ],
   "source": [
    "# start with a model, generate data according to this pdf, then fit\n",
    "\n",
    "xmin=5\n",
    "xmax=500\n",
    "nsamples=3000\n",
    "model=r.TF1(\"model\",\"[0]+[1]*log(x)+[2]*log(x)*log(x)\",xmin,xmax)\n",
    "nPars=model.GetNpar()\n",
    "model.SetNpx(200)\n",
    "model.SetParameter(0,10)\n",
    "model.SetParameter(1,5)\n",
    "model.SetParameter(2,.5)\n",
    "\n",
    "#generate pseudo data to study\n",
    "data=r.TH1F(\"data\",\"data;x;y\",40,xmin,xmax);\n",
    "data.Sumw2()\n",
    "data.FillRandom(\"model\",nsamples)\n",
    "xfmin=data.GetBinCenter(1)\n",
    "xfmax=data.GetBinCenter(data.GetNbinsX())\n",
    "model.SetRange(xfmin,xfmax)    # fix the model's range from 1st to last bin center for drawing\n",
    "data.Fit(model,\"R\",\"\",xfmin,xfmax)\n",
    "data.Draw()\n",
    "\n",
    "from array import array\n",
    "pars=array('d', [0]*nPars)\n",
    "model.GetParameters(pars)"
   ]
  },
  {
   "cell_type": "code",
   "execution_count": 3,
   "id": "47c56be0-0cd7-42d2-9608-b47ae16f90b6",
   "metadata": {},
   "outputs": [],
   "source": [
    "# Get the Covariance matrix\n",
    "fitter = r.TVirtualFitter.GetFitter();  # interface to the extract fitter info\n",
    "#  assert (nPars == fitter->GetNumberFreeParameters());\n",
    "COV = r.TMatrixD( nPars, nPars, fitter.GetCovarianceMatrix() )\n",
    "up=r.TH1F(data);  up.SetLineColor(r.kBlue);  up.SetLineWidth(2)\n",
    "dn=r.TH1F(data);  dn.SetLineColor(r.kBlue);  dn.SetLineWidth(2)\n",
    "\n",
    "#calculate error bands using covariance matrix\n",
    "for ib in range(1,data.GetNbinsX()+1):  \n",
    "    x=data.GetBinCenter(ib)\n",
    "    sigma=r.GetCovError(model,x,pars,COV)\n",
    "    up.SetBinContent(ib,model(x)+sigma)  # multipy sigma by 2.0 to get 2 sigma, etc\n",
    "    dn.SetBinContent(ib,model(x)-sigma)"
   ]
  },
  {
   "cell_type": "code",
   "execution_count": 4,
   "id": "56c4fc84-dde3-4288-80ae-f50ac339dccf",
   "metadata": {},
   "outputs": [
    {
     "data": {
      "image/png": "[encoded data removed]",
      "text/plain": [
       "<IPython.core.display.Image object>"
      ]
     },
     "metadata": {},
     "output_type": "display_data"
    }
   ],
   "source": [
    "c1=r.TCanvas();\n",
    "data.Draw()\n",
    "up.Draw(\"same,hist,c\")\n",
    "dn.Draw(\"same,hist,c\")\n",
    "c1.Draw()"
   ]
  },
  {
   "cell_type": "markdown",
   "id": "4359cab9-ae4d-445c-ae12-80bc5a2715e4",
   "metadata": {},
   "source": [
    "Diagonalize covariance matrix"
   ]
  },
  {
   "cell_type": "code",
   "execution_count": 5,
   "id": "8a60472d-01d2-4805-b1d7-5cba4deb61ac",
   "metadata": {},
   "outputs": [
    {
     "name": "stdout",
     "output_type": "stream",
     "text": [
      "Covariance matrix:\n",
      "\n",
      "3x3 matrix is as follows\n",
      "\n",
      "     |      0    |      1    |      2    |\n",
      "--------------------------------------------\n",
      "   0 |      563.8      -253.4       27.05 \n",
      "   1 |     -253.4       117.4       -12.8 \n",
      "   2 |      27.05       -12.8       1.417 \n",
      "\n"
     ]
    }
   ],
   "source": [
    "print(\"Covariance matrix:\")\n",
    "COV.Print()"
   ]
  },
  {
   "cell_type": "code",
   "execution_count": 6,
   "id": "937c2960-3fe6-4d99-8239-3248d468b70f",
   "metadata": {},
   "outputs": [
    {
     "name": "stdout",
     "output_type": "stream",
     "text": [
      "Eigenvalues/Eigenvectors(columnwise):\n",
      "\n",
      "Vector (3)  is as follows\n",
      "\n",
      "     |        1  |\n",
      "------------------\n",
      "   0 |679.589 \n",
      "   1 |3.05823 \n",
      "   2 |0.00217829 \n",
      "\n",
      "\n",
      "3x3 matrix is as follows\n",
      "\n",
      "     |      0    |      1    |      2    |\n",
      "--------------------------------------------\n",
      "   0 |    -0.9104      0.4124     0.03302 \n",
      "   1 |     0.4113      0.8938      0.1785 \n",
      "   2 |   -0.04408     -0.1761      0.9834 \n",
      "\n"
     ]
    }
   ],
   "source": [
    "print(\"Eigenvalues/Eigenvectors(columnwise):\")\n",
    "eVals=r.TVectorD(nPars)\n",
    "eVecs=COV.EigenVectors(eVals)\n",
    "eVals.Print()\n",
    "eVecs.Print()"
   ]
  },
  {
   "cell_type": "code",
   "execution_count": 7,
   "id": "7e12ee07-ed06-4970-8ed9-949f1a25a6a2",
   "metadata": {},
   "outputs": [
    {
     "name": "stdout",
     "output_type": "stream",
     "text": [
      "eigenvecs (inverse)\n",
      "\n",
      "3x3 matrix is as follows\n",
      "\n",
      "     |      0    |      1    |      2    |\n",
      "--------------------------------------------\n",
      "   0 |    -0.9104      0.4113    -0.04408 \n",
      "   1 |     0.4124      0.8938     -0.1761 \n",
      "   2 |    0.03302      0.1785      0.9834 \n",
      "\n"
     ]
    }
   ],
   "source": [
    "print(\"eigenvecs (inverse)\")\n",
    "eVecsI=r.TMatrixD(eVecs)\n",
    "eVecsI.Transpose(eVecsI)  # inverse of eigenvector matrix\n",
    "eVecsI.Print()"
   ]
  },
  {
   "cell_type": "markdown",
   "id": "ab599f63-4331-49b1-95f6-17a52b754cbd",
   "metadata": {},
   "source": [
    "Correlation matrix"
   ]
  },
  {
   "cell_type": "code",
   "execution_count": 8,
   "id": "393c0d1e-2bc4-46ce-9d02-3abe85edc415",
   "metadata": {},
   "outputs": [
    {
     "name": "stdout",
     "output_type": "stream",
     "text": [
      "correlation matrix\n",
      "\n",
      "3x3 matrix is as follows\n",
      "\n",
      "     |      0    |      1    |      2    |\n",
      "--------------------------------------------\n",
      "   0 |          1     -0.9847      0.9569 \n",
      "   1 |    -0.9847           1     -0.9924 \n",
      "   2 |     0.9569     -0.9924           1 \n",
      "\n"
     ]
    }
   ],
   "source": [
    "from math import sqrt\n",
    "COR = r.TMatrixD( nPars, nPars, fitter.GetCovarianceMatrix() )\n",
    "var = r.TMatrixDDiag(COV)\n",
    "for i in range(nPars):\n",
    "    for j in range(nPars):\n",
    "        COR[i][j] = COR[i][j]/sqrt(var[i]*var[j])\n",
    "print(\"correlation matrix\")\n",
    "COR.Print()"
   ]
  },
  {
   "cell_type": "markdown",
   "id": "b420c805-3bc0-4003-a971-eb2658823b59",
   "metadata": {},
   "source": [
    "Get eigenvectors into 3x1 TMatrixD objects"
   ]
  },
  {
   "cell_type": "code",
   "execution_count": 9,
   "id": "e34b911d-54d4-432f-9872-a1746a27b93b",
   "metadata": {},
   "outputs": [
    {
     "name": "stdout",
     "output_type": "stream",
     "text": [
      "\n",
      "3x1 matrix is as follows\n",
      "\n",
      "     |      0    |\n",
      "------------------\n",
      "   0 |    -0.9104 \n",
      "   1 |     0.4113 \n",
      "   2 |   -0.04408 \n",
      "\n"
     ]
    }
   ],
   "source": [
    "eV=[0]*nPars\n",
    "for i in range(nPars):\n",
    "    eV[i]=eVecs.GetSub(0,2,i,i)\n",
    "eV[0].Print()"
   ]
  },
  {
   "cell_type": "markdown",
   "id": "8d79eda6-509d-4bb1-8536-3dcfd97d446e",
   "metadata": {},
   "source": [
    "Check the math of eigenvector matrix: $MM^T=I$"
   ]
  },
  {
   "cell_type": "code",
   "execution_count": 10,
   "id": "1cb9849a-2620-4c26-9f05-7a345ce45ad8",
   "metadata": {},
   "outputs": [
    {
     "name": "stdout",
     "output_type": "stream",
     "text": [
      "\n",
      "3x3 matrix is as follows\n",
      "\n",
      "     |      0    |      1    |      2    |\n",
      "--------------------------------------------\n",
      "   0 |          1  -1.544e-16   -1.18e-16 \n",
      "   1 | -1.544e-16           1  -2.776e-16 \n",
      "   2 |  -1.18e-16  -2.776e-16           1 \n",
      "\n"
     ]
    }
   ],
   "source": [
    "#eVecs.Print()\n",
    "#eVecsI.Print()\n",
    "r.MtimesM(eVecs,eVecsI).Print()"
   ]
  },
  {
   "cell_type": "markdown",
   "id": "ecf0b73a-007f-4b28-880b-c983acbd4599",
   "metadata": {},
   "source": [
    "Looks good, now let's try an error propogation: <br>\n",
    "eVecI * p -> p' <br>\n",
    "take p'[0] and add sqrt(eVal[0]) <br>\n",
    "get new parameters p_up = p' * eVecI <br>\n",
    "use this p_up vector to calculate a new error band"
   ]
  },
  {
   "cell_type": "code",
   "execution_count": 11,
   "id": "e4488073-31ec-4e1c-9e67-897134587165",
   "metadata": {},
   "outputs": [
    {
     "name": "stdout",
     "output_type": "stream",
     "text": [
      "rotated parameter vector\n",
      "\n",
      "3x1 matrix is as follows\n",
      "\n",
      "     |      0    |\n",
      "------------------\n",
      "   0 |     -11.85 \n",
      "   1 |      12.77 \n",
      "   2 |      2.524 \n",
      "\n"
     ]
    }
   ],
   "source": [
    "# rotate parameter vectors into orthogonal space\n",
    "parv=r.TMatrixD(nPars,1,pars)\n",
    "#parv.Print()\n",
    "print(\"rotated parameter vector\")\n",
    "par_primed=r.MtimesM(eVecsI,parv)\n",
    "par_primed.Print()"
   ]
  },
  {
   "cell_type": "code",
   "execution_count": 12,
   "id": "10bb16ee-2fa6-4117-b843-11a0dfe3ddde",
   "metadata": {},
   "outputs": [],
   "source": [
    "# Function to propogate errors from eigenvalues into original parameter basis\n",
    "# Parameter variations based on principal components\n",
    "# par_primed: TMatrixD[npar][1]\n",
    "# eVecs: TMatrixD[npar][npar]\n",
    "# eVals: TMatrixD[npar][1]\n",
    "# ipar: diagonalized parameter to vary 0(npar-1) corresponds to largest(smallest) eigenvalue\n",
    "# sign: 1/-1 for up/down\n",
    "# return: parameter array in original basis with requested variation\n",
    "def GetPCvar(par_primed, eVecs, eVals, ipar=0, sign=1):\n",
    "    if ipar>=eVecs.GetNrows():\n",
    "        print(\"Error in parameter number\")\n",
    "        return None\n",
    "    par = r.TMatrixD(par_primed)\n",
    "    par[ipar][0]=par[ipar][0]+sqrt(eVals[ipar])*sign  # orthogonal parameter vector (fluctuated)\n",
    "    par=r.MtimesM(eVecs,par)                          # back to original basis\n",
    "    fluct=array('d', [0]*eVecs.GetNrows())\n",
    "    for i in range(eVecs.GetNrows()): fluct[i]=par[i][0]\n",
    "    return fluct"
   ]
  },
  {
   "cell_type": "code",
   "execution_count": 13,
   "id": "cacab1f6-cc77-4e36-976b-c16db8f26dc5",
   "metadata": {},
   "outputs": [],
   "source": [
    "# set all 1 sigma PCA variations for this fit\n",
    "parv_up=[0]*nPars\n",
    "parv_dn=[0]*nPars\n",
    "for i in range(nPars):\n",
    "    parv_up[i]=GetPCvar(par_primed, eVecs, eVals, ipar=i, sign=1)\n",
    "    parv_dn[i]=GetPCvar(par_primed, eVecs, eVals, ipar=i, sign=-1)"
   ]
  },
  {
   "cell_type": "code",
   "execution_count": 14,
   "id": "f747897a-cd91-4123-bfc8-682d4a488fa6",
   "metadata": {},
   "outputs": [],
   "source": [
    "# return variation of our fit/model using a set of fluctuated parameters\n",
    "def GetPCvarFcn(model, parv):\n",
    "    modelv=r.TF1(model)\n",
    "    modelv.SetLineColor(r.kBlack);  modelv.SetLineWidth(2); modelv.SetLineStyle(2)\n",
    "    for i in range(model.GetNpar()): modelv.SetParameter(i,parv[i])\n",
    "    return modelv"
   ]
  },
  {
   "cell_type": "markdown",
   "id": "270d7a45-ff4d-4bcd-b0e2-ed15f503f424",
   "metadata": {},
   "source": [
    "Taking the fluctuation wrt the largest eigenvalue, show upper and lower variations"
   ]
  },
  {
   "cell_type": "code",
   "execution_count": 15,
   "id": "7573b308-a6ac-43c6-9bde-ad7cec71a2e6",
   "metadata": {},
   "outputs": [
    {
     "data": {
      "image/png": "[encoded data removed]",
      "text/plain": [
       "<IPython.core.display.Image object>"
      ]
     },
     "metadata": {},
     "output_type": "display_data"
    }
   ],
   "source": [
    "modelv0u=GetPCvarFcn(model,parv_up[0])\n",
    "modelv0d=GetPCvarFcn(model,parv_dn[0])\n",
    "\n",
    "data.Draw()\n",
    "up.Draw(\"same,hist,c\")\n",
    "dn.Draw(\"same,hist,c\")\n",
    "modelv0u.Draw(\"same\")\n",
    "modelv0d.Draw(\"same\")\n",
    "c1.Draw()"
   ]
  },
  {
   "cell_type": "code",
   "execution_count": null,
   "id": "55eefea3-e39d-4cfc-a853-35d66b36d62d",
   "metadata": {},
   "outputs": [],
   "source": []
  }
 ],
 "metadata": {
  "kernelspec": {
   "display_name": "Python 3 (ipykernel)",
   "language": "python",
   "name": "python3"
  },
  "language_info": {
   "codemirror_mode": {
    "name": "ipython",
    "version": 3
   },
   "file_extension": ".py",
   "mimetype": "text/x-python",
   "name": "python",
   "nbconvert_exporter": "python",
   "pygments_lexer": "ipython3",
   "version": "3.9.13"
  }
 },
 "nbformat": 4,
 "nbformat_minor": 5
}
